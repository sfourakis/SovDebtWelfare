{
 "cells": [
  {
   "cell_type": "markdown",
   "metadata": {},
   "source": [
    "# Figures for \"On the Welfare Costs of External Sovereign Borrowing\""
   ]
  },
  {
   "cell_type": "code",
   "execution_count": 1,
   "metadata": {},
   "outputs": [],
   "source": [
    "import pandas as pd\n",
    "import os\n",
    "import numpy as np\n",
    "from matplotlib import pyplot as plt\n",
    "from matplotlib import lines as mlines\n",
    "from scipy import optimize \n",
    "\n",
    "\n",
    "plt.rc('text', usetex=True)\n",
    "# plt.rc('font', family='serif')\n",
    "plt.rc('font',**{'family':'serif','serif':['Palatino']})\n",
    "plt.rcParams['text.latex.preamble'] = [r\"\"\"\\usepackage[T1]{fontenc}\n",
    "                                        \\usepackage{concrete}\"\"\"]"
   ]
  },
  {
   "cell_type": "code",
   "execution_count": 2,
   "metadata": {},
   "outputs": [],
   "source": [
    "figs = {}\n",
    "path_to_CSV = ['OUTPUT', 'CSV']\n",
    "\n",
    "AG2006_file = os.path.join(*path_to_CSV, \n",
    "                    'AGTransitory06_welfareGainDecomposition.csv')\n",
    "\n",
    "Ar2008_file = os.path.join(*path_to_CSV, \n",
    "                    'ArBenchmark08_welfareGainDecomposition.csv')\n",
    "\n",
    "CE2012_file = os.path.join(*path_to_CSV,\n",
    "                    'CEBenchmark12_welfareGainDecomposition.csv')\n",
    "\n",
    "CE2012_lambdaDDecomposition_file = os.path.join(*path_to_CSV, \n",
    "                    'CEBenchmark12_lambdaDDecomposition.csv')\n",
    "\n",
    "asset_limits_file = os.path.join(*path_to_CSV, \"asset_over_Y_limit_ND.csv\")\n",
    "\n",
    "debt_limits = - pd.read_csv(asset_limits_file, header=None, names=['CE', 'Ar', 'AG'])"
   ]
  },
  {
   "cell_type": "code",
   "execution_count": 3,
   "metadata": {},
   "outputs": [],
   "source": [
    "from pylab import rcParams\n",
    "rcParams['figure.figsize'] = 0.8* 6, 0.8*4\n",
    "\n",
    "title_fs = 14\n",
    "subtitle_fs = 13\n",
    "ticks_fs = 12\n",
    "axis_labels_fs = 12\n",
    "text_fs = 12"
   ]
  },
  {
   "cell_type": "markdown",
   "metadata": {},
   "source": [
    "## Theoretical computation"
   ]
  },
  {
   "cell_type": "code",
   "execution_count": 4,
   "metadata": {},
   "outputs": [],
   "source": [
    "# Theoretical formulas for the benchmark simulation\n",
    "\n",
    "def bmax_f(T, bmax, y, sigma, r, rho):\n",
    "    return (y * (1 - (np.exp(r * T) * (rho + r * (-1 + sigma)))/(rho + \n",
    "        r * (-1 + np.exp((\n",
    "        T * (rho + r * (-1 + sigma)))/sigma) * sigma )))) / r - bmax\n",
    "\n",
    "def welfare_cost_T(T, y, sigma, r, rho, rhoH):\n",
    "    return (-y + rhoH ** (1/(1 - sigma)) * (1 - sigma) ** (1/(1 - sigma)) *\n",
    "            (-((np.exp(-T * rhoH) * ((r - rho) * (-1 + sigma) + \n",
    "       np.exp(T * (rhoH + ((r - rho) * (-1 + sigma)) / sigma)) *\n",
    "                                     rhoH * sigma) * ((\n",
    "      np.exp(r * T) * y * (rho + r * (-1 + sigma)))/(rho + \n",
    "       r * (-1 + np.exp((\n",
    "           T * (rho + r * (-1 + sigma)))/sigma) *sigma))) ** (\n",
    "     1 - sigma))/(rhoH * (-1 + sigma) * (-r + rho + (r - rho + rhoH) * sigma)))\n",
    "            ) **(1/(1 - sigma)))/y\n",
    "\n",
    "def welfare_cost(bmax, y, sigma, r, rho, rhoH):\n",
    "    t = find_T(bmax, y, sigma, r, rho)\n",
    "    return welfare_cost_T(t, y, sigma, r, rho, rhoH)\n",
    "    \n",
    "def find_T(bmax, y, sigma, r, rho):\n",
    "    return optimize.newton(bmax_f, 2, args=(bmax, y, sigma, r, rho))\n",
    "\n",
    "def lambda_series(bmax, y, sigma, r, rho, rhoH_max=0.4, npoints=20):\n",
    "    rhoH_list = list(np.linspace(0.001, rhoH_max, npoints)) \n",
    "    lambda_theory = [\n",
    "            welfare_cost(bmax=bmax, y=y, sigma=sigma, r=r, rho=rho, \n",
    "                         rhoH=rhoH)\n",
    "            for rhoH in rhoH_list\n",
    "        ]\n",
    "    lambda_theory = np.array(lambda_theory)\n",
    "    return (rhoH_list, lambda_theory)"
   ]
  },
  {
   "cell_type": "markdown",
   "metadata": {},
   "source": [
    "## Simple Calculation Plots"
   ]
  },
  {
   "cell_type": "markdown",
   "metadata": {},
   "source": [
    "### Indifference plot"
   ]
  },
  {
   "cell_type": "code",
   "execution_count": 5,
   "metadata": {},
   "outputs": [],
   "source": [
    "r = 0.04\n",
    "y = 1 \n",
    "bmax = 0.25\n",
    "sigma = 2\n",
    "rho_list = np.linspace(r + 0.001, 0.8, 40)\n",
    "rhoH_indifferent = [\n",
    "    optimize.newton(lambda rhoH_val: welfare_cost(bmax, y, sigma, r, \n",
    "                                                  rho, rhoH_val), rho + 0.1)\n",
    "    for rho in rho_list\n",
    "]"
   ]
  },
  {
   "cell_type": "code",
   "execution_count": 6,
   "metadata": {},
   "outputs": [
    {
     "data": {
      "image/png": "[encoded data removed]",
      "text/plain": [
       "<Figure size 345.6x230.4 with 1 Axes>"
      ]
     },
     "metadata": {
      "needs_background": "light"
     },
     "output_type": "display_data"
    }
   ],
   "source": [
    "\n",
    "figs[\"indifference\"] = plt.figure()\n",
    "label_fnsize = 15\n",
    "ax = plt.subplot(111,)\n",
    "\n",
    "ax.plot([0, 0.8], [0, 0.8], linewidth=2, color='lightgray')\n",
    "ax.set_ylim(0, 0.4)\n",
    "ax.set_xlim(0, 0.8)\n",
    "ax.set_yticks([0, 0.1, 0.2, 0.3, 0.4])\n",
    "\n",
    "ax.axhline(y=r, linewidth=2, color='lightgray')\n",
    "ax.axvline(x=r,  linewidth=2, color='lightgray')\n",
    "\n",
    "ax.plot(rho_list, rhoH_indifferent, linewidth=4)\n",
    "\n",
    "ax.set_ylabel(r'Household Discount Rate, $\\rho_H$', \n",
    "              fontsize=axis_labels_fs, labelpad=10)\n",
    "ax.set_xlabel(r'Government Discount Rate, $\\rho_G$', \n",
    "              fontsize=axis_labels_fs, labelpad=10)\n",
    "\n",
    "ax.text(0.5, 0.2, r'Prefers Market Access', \n",
    "        fontsize=15, horizontalalignment='center')\n",
    "ax.text(0.6, 0.015, r'Prefers Autarky', fontsize=14, \n",
    "        horizontalalignment='center')\n",
    "\n",
    "ax.text(0.41, 0.4, r'$45^{\\circ}$', fontsize=12, color='lightgray')\n",
    "plt.box(False)\n",
    "\n",
    "ax.text(r+0.01, 0.38, '$r$', fontsize=14, color='lightgray')\n",
    "\n",
    "ax.annotate('Indifference line', xy=(0.38, 0.048), \n",
    "            xytext=(0.25, 0.08), \n",
    "            arrowprops=dict(arrowstyle='-', color='gray'))\n",
    "\n",
    "ax.text(0.4, 0.5, 'Indifference between Access and Autarky', \n",
    "        fontsize=title_fs, horizontalalignment='center');\n",
    "ax.text(0.4, 0.46, 'Simple Calculation', fontsize=subtitle_fs,\n",
    "       horizontalalignment='center');"
   ]
  },
  {
   "cell_type": "markdown",
   "metadata": {},
   "source": [
    "### Welfare Gains Plot"
   ]
  },
  {
   "cell_type": "code",
   "execution_count": 8,
   "metadata": {},
   "outputs": [
    {
     "data": {
      "image/png": "[encoded data removed]",
      "text/plain": [
       "<Figure size 345.6x230.4 with 1 Axes>"
      ]
     },
     "metadata": {
      "needs_background": "light"
     },
     "output_type": "display_data"
    }
   ],
   "source": [
    "r = 0.04\n",
    "y = 1 \n",
    "bmax = 0.25\n",
    "sigma = 2\n",
    "rho = 0.2\n",
    "\n",
    "lambda_theory = lambda_series(bmax, y, sigma, r, rho, \n",
    "                              rhoH_max=0.2, npoints=20)\n",
    "\n",
    "figs['welfare_theory'] = plt.figure()\n",
    "ax = plt.subplot(111)\n",
    "# ax.set_ylabel(r'Percentage Points of Consumption', fontsize=14)\n",
    "ax.set_xlabel(r'Household Discount Rate, $\\rho_H$', fontsize=axis_labels_fs, \n",
    "              labelpad=10)\n",
    "ax.set_xticks([0.0, 0.05, 0.1, 0.15, 0.20])\n",
    "\n",
    "ax.set_yticks([-1, 0, 1, 2, 3])\n",
    "labs = ['-1', ' 0', ' 1', ' 2', r' 3$\\%$ ']\n",
    "ax.set_yticklabels(labels=\n",
    "                  [lab + ('   ' if i < len(labs) -1 else '') \n",
    "                       for i, lab in enumerate(labs)\n",
    "                  ])\n",
    "\n",
    "\n",
    "ax.set_ylim(-1, 3)\n",
    "ax.set_xlim(0, 0.2)\n",
    "ax.axhline(y=0, color='lightgray', linewidth=2)\n",
    "ax.axvline(x=r, color='lightgray', linewidth=2)\n",
    "\n",
    "ax.plot(lambda_theory[0], 100 * lambda_theory[1], linewidth=4)\n",
    "plt.box(False)\n",
    "ax.text(r+0.001, 2.8, '$r$', fontsize=text_fs, color='lightgray')\n",
    "\n",
    "ax.text(0.1, 4.2, 'Welfare Gains from Financial Market Access', \n",
    "             fontsize=title_fs, horizontalalignment='center');\n",
    "ax.text(0.1, 3.8, 'Simple Calculation', \n",
    "             fontsize=subtitle_fs, horizontalalignment='center');"
   ]
  },
  {
   "cell_type": "markdown",
   "metadata": {},
   "source": [
    "## Aguiar Gopinath 2006"
   ]
  },
  {
   "cell_type": "code",
   "execution_count": 10,
   "metadata": {},
   "outputs": [],
   "source": [
    "decomposition_AG2006 = pd.read_csv(AG2006_file, header=None, \n",
    "                                   names=['beta', '1+lambda', \n",
    "                                          '1+lambdaD', '1+lambdaV',\n",
    "                                          '1+lambdaT'])\n",
    "\n",
    "decomposition_AG2006['rho'] = -np.log(decomposition_AG2006['beta'] ** 4)\n",
    "decomposition_AG2006 = decomposition_AG2006.set_index('rho')\n",
    "\n",
    "\n",
    "rAG06 = 4 * np.log(1 + 0.01)\n",
    "rhoAG06 = - 4 * np.log(0.8)"
   ]
  },
  {
   "cell_type": "code",
   "execution_count": 11,
   "metadata": {},
   "outputs": [
    {
     "name": "stdout",
     "output_type": "stream",
     "text": [
      "0.06021919760562323\n"
     ]
    }
   ],
   "source": [
    "# computing bmax\n",
    "\n",
    "# reading the debt series from file\n",
    "\n",
    "# selecting last value as steady state value\n",
    "bmaxAG06 = debt_limits['AG'].iloc[[-1]].values[0] / 4\n",
    "\n",
    "print(bmaxAG06)\n",
    "# correcting it to remove the coupon -- see paper "
   ]
  },
  {
   "cell_type": "code",
   "execution_count": 12,
   "metadata": {},
   "outputs": [
    {
     "data": {
      "image/png": "[encoded data removed]",
      "text/plain": [
       "<Figure size 345.6x230.4 with 1 Axes>"
      ]
     },
     "metadata": {
      "needs_background": "light"
     },
     "output_type": "display_data"
    }
   ],
   "source": [
    "figs['AG06'] = plt.figure()\n",
    "\n",
    "ax = plt.subplot(111)\n",
    "ax.axhline(y=0, color='gray')\n",
    "ax.axvline(x=rAG06, color='lightgray', linewidth=2)\n",
    "ax.axvline(x=rhoAG06, color='lightgray',linewidth=2)\n",
    "\n",
    "(100 * (decomposition_AG2006['1+lambda'] - 1)).plot(linewidth=4)\n",
    "\n",
    "\n",
    "ax.set_xlabel(r'Household Discount Rate, $\\rho_H$', \n",
    "              fontsize=axis_labels_fs, labelpad=10)\n",
    "# ax.set_ylabel(r'Percentage Points of Consumption', fontsize=14)\n",
    "\n",
    "\n",
    "plt.box(False)\n",
    "\n",
    "\n",
    "lambda_series_AG = lambda_series(bmax=bmaxAG06, y=1, \n",
    "                                 sigma=2, r=rAG06, rho=rhoAG06)\n",
    "ax.plot(lambda_series_AG[0], 100 * lambda_series_AG[1], \n",
    "        linewidth=3, color='lightblue')\n",
    "\n",
    "\n",
    "ax.set_yticks([-0.3, 0, 0.3, 0.6, 0.9, 1.2 ])\n",
    "labs = ['-0.3', ' 0.0', ' 0.3', ' 0.6', ' 0.9', ' 1.2$\\%$']\n",
    "ax.set_yticklabels(labels=\n",
    "                  [lab + ('   ' if i < len(labs) -1 else '') \n",
    "                       for i, lab in enumerate(labs)\n",
    "                  ])\n",
    "\n",
    "ax.set_xlim(0.0, 0.3)\n",
    "ax.set_ylim(-30/100, 130/100)\n",
    "\n",
    "\n",
    "ax.text(rAG06+0.002, 130/100, r'$r$', fontsize=14, color='lightgray')\n",
    "# ax.text(rhoAG06+0.002, 40/100, r'$\\rho_G$', fontsize=14)\n",
    "\n",
    "ax.text(0.305, 115/100, r'$\\lambda$', fontsize=text_fs)\n",
    "ax.text(0.305, 125/100, r'$\\hat\\lambda$', fontsize=text_fs)\n",
    "\n",
    "ax.text(0.14, 180/100, 'Welfare Gains from Financial Market Access', \n",
    "             fontsize=title_fs, horizontalalignment='center');\n",
    "ax.text(0.14, 162/100, 'Aguiar Gopinath (2006)', \n",
    "        fontsize=subtitle_fs, horizontalalignment='center');"
   ]
  },
  {
   "cell_type": "code",
   "execution_count": 13,
   "metadata": {},
   "outputs": [
    {
     "data": {
      "image/png": "[encoded data removed]",
      "text/plain": [
       "<Figure size 345.6x230.4 with 1 Axes>"
      ]
     },
     "metadata": {
      "needs_background": "light"
     },
     "output_type": "display_data"
    }
   ],
   "source": [
    "figs['AG06_decomposition'] = plt.figure()\n",
    "\n",
    "label_fnsize = 15\n",
    "ax = plt.subplot(111)\n",
    "ax.axhline(y=0, color='gray')\n",
    "ax.axvline(x=rAG06, color='lightgray', linewidth=2)\n",
    "ax.axvline(x=rhoAG06, color='lightgray', linewidth=2)\n",
    "\n",
    "(100 * (decomposition_AG2006['1+lambda'] - 1)).plot(linewidth=4)\n",
    "\n",
    "(100 * (decomposition_AG2006['1+lambdaV'] - 1)).plot(color='darkgray', linewidth=4)\n",
    "(100 * (decomposition_AG2006['1+lambdaD'] - 1)).plot(color='gray', linewidth=2)\n",
    "#(100 * (decomposition_AG2006['1+lambdaR'] - 1)).plot(linewidth=2)\n",
    "\n",
    "# ax.set_ylabel(r'Percentage Points of Consumption', fontsize=14)\n",
    "\n",
    "\n",
    "plt.box(False)\n",
    "\n",
    "\n",
    "lambda_series_AG = lambda_series(bmax=bmaxAG06, y=1, \n",
    "                                 sigma=2, r=rAG06, rho=rhoAG06)\n",
    "ax.plot(lambda_series_AG[0], 100 * lambda_series_AG[1], \n",
    "        linewidth=3, color='lightblue')\n",
    "\n",
    "(100 * (decomposition_AG2006['1+lambdaT'] - 1)).plot(linewidth=3, \n",
    "                                                     linestyle=':',\n",
    "                                                    color='k')\n",
    "\n",
    "\n",
    "ax.set_yticks([-0.3, 0, 0.3, 0.6, 0.9, 1.2 ])\n",
    "labs = ['-0.3', ' 0.0', ' 0.3', ' 0.6', ' 0.9', ' 1.2$\\%$']\n",
    "ax.set_yticklabels(labels=\n",
    "                  [lab + ('   ' if i < len(labs) -1 else '') \n",
    "                       for i, lab in enumerate(labs)\n",
    "                  ])\n",
    "\n",
    "ax.set_xlim(0.0, 0.3)\n",
    "ax.set_ylim(-20/100, 130/100)\n",
    "\n",
    "\n",
    "ax.text(rAG06+0.002, 130/100, r'$r$', fontsize=text_fs, color='lightgray')\n",
    "# ax.text(rhoAG06+0.002, 40/100, r'$\\rho_G$', fontsize=14)\n",
    "\n",
    "ax.text(0.305, 110/100, r'$\\lambda$', fontsize=text_fs)\n",
    "ax.text(0.305, 130/100, r'$\\hat\\lambda$', fontsize=text_fs)\n",
    "ax.text(0.305, 120/100, r'$\\lambda_T$', fontsize=text_fs)\n",
    "ax.text(0.305, 0/100, r'$\\lambda_V$, $\\lambda_D$', fontsize=text_fs)\n",
    "\n",
    "\n",
    "ax.text(0.14, 180/100, 'Welfare Gains from Financial Market Access', \n",
    "             fontsize=title_fs, horizontalalignment='center')\n",
    "ax.text(0.14, 162/100, 'Aguiar Gopinath (2006)', \n",
    "        fontsize=subtitle_fs, horizontalalignment='center')\n",
    "\n",
    "ax.set_xlabel(r'Household Discount Rate, $\\rho_H$', \n",
    "              fontsize=axis_labels_fs, labelpad=10);\n"
   ]
  },
  {
   "cell_type": "markdown",
   "metadata": {},
   "source": [
    "## Arellano 2008"
   ]
  },
  {
   "cell_type": "code",
   "execution_count": 15,
   "metadata": {},
   "outputs": [],
   "source": [
    "decomposition_Ar2008 = pd.read_csv(Ar2008_file, header=None, \n",
    "                                   names=['beta', '1+lambda', \n",
    "                                          '1+lambdaD', '1+lambdaV',\n",
    "                                          '1+lambdaT'])\n",
    "\n",
    "decomposition_Ar2008['rho'] = -np.log(decomposition_Ar2008['beta'] ** 4)\n",
    "decomposition_Ar2008 = decomposition_Ar2008.set_index('rho')\n",
    "\n",
    "rAr08 = 4 * np.log(1 + 0.017)\n",
    "rhoAr08 = - 4 * np.log(0.95282)"
   ]
  },
  {
   "cell_type": "code",
   "execution_count": 16,
   "metadata": {},
   "outputs": [
    {
     "name": "stdout",
     "output_type": "stream",
     "text": [
      "0.010997427849886334\n"
     ]
    }
   ],
   "source": [
    "# computing bmax\n",
    "\n",
    "# reading the debt series from file\n",
    "bmaxAr08temp = - pd.read_csv(Ar2008_debt_file, header=None, names=['debt'])\n",
    "# selecting last value as steady state value\n",
    "bmaxAr08 = debt_limits['Ar'].iloc[[-1]].values[0] / 4\n",
    "\n",
    "print(bmaxAr08)\n",
    "# correcting it to remove the coupon -- see paper "
   ]
  },
  {
   "cell_type": "code",
   "execution_count": 17,
   "metadata": {},
   "outputs": [
    {
     "data": {
      "text/html": [
       "<div>\n",
       "<style scoped>\n",
       "    .dataframe tbody tr th:only-of-type {\n",
       "        vertical-align: middle;\n",
       "    }\n",
       "\n",
       "    .dataframe tbody tr th {\n",
       "        vertical-align: top;\n",
       "    }\n",
       "\n",
       "    .dataframe thead th {\n",
       "        text-align: right;\n",
       "    }\n",
       "</style>\n",
       "<table border=\"1\" class=\"dataframe\">\n",
       "  <thead>\n",
       "    <tr style=\"text-align: right;\">\n",
       "      <th></th>\n",
       "      <th>beta</th>\n",
       "      <th>1+lambda</th>\n",
       "      <th>1+lambdaD</th>\n",
       "      <th>1+lambdaV</th>\n",
       "      <th>1+lambdaT</th>\n",
       "      <th>1+lambdaR</th>\n",
       "    </tr>\n",
       "    <tr>\n",
       "      <th>rho</th>\n",
       "      <th></th>\n",
       "      <th></th>\n",
       "      <th></th>\n",
       "      <th></th>\n",
       "      <th></th>\n",
       "      <th></th>\n",
       "    </tr>\n",
       "  </thead>\n",
       "  <tbody>\n",
       "    <tr>\n",
       "      <td>0.130093</td>\n",
       "      <td>0.9680</td>\n",
       "      <td>0.999992</td>\n",
       "      <td>0.999882</td>\n",
       "      <td>0.999529</td>\n",
       "      <td>1.000581</td>\n",
       "      <td>NaN</td>\n",
       "    </tr>\n",
       "    <tr>\n",
       "      <td>0.128027</td>\n",
       "      <td>0.9685</td>\n",
       "      <td>0.999975</td>\n",
       "      <td>0.999881</td>\n",
       "      <td>0.999531</td>\n",
       "      <td>1.000562</td>\n",
       "      <td>NaN</td>\n",
       "    </tr>\n",
       "    <tr>\n",
       "      <td>0.125963</td>\n",
       "      <td>0.9690</td>\n",
       "      <td>0.999958</td>\n",
       "      <td>0.999881</td>\n",
       "      <td>0.999534</td>\n",
       "      <td>1.000543</td>\n",
       "      <td>NaN</td>\n",
       "    </tr>\n",
       "    <tr>\n",
       "      <td>0.123899</td>\n",
       "      <td>0.9695</td>\n",
       "      <td>0.999941</td>\n",
       "      <td>0.999881</td>\n",
       "      <td>0.999536</td>\n",
       "      <td>1.000525</td>\n",
       "      <td>NaN</td>\n",
       "    </tr>\n",
       "    <tr>\n",
       "      <td>0.121837</td>\n",
       "      <td>0.9700</td>\n",
       "      <td>0.999924</td>\n",
       "      <td>0.999880</td>\n",
       "      <td>0.999538</td>\n",
       "      <td>1.000506</td>\n",
       "      <td>NaN</td>\n",
       "    </tr>\n",
       "  </tbody>\n",
       "</table>\n",
       "</div>"
      ],
      "text/plain": [
       "            beta  1+lambda  1+lambdaD  1+lambdaV  1+lambdaT  1+lambdaR\n",
       "rho                                                                   \n",
       "0.130093  0.9680  0.999992   0.999882   0.999529   1.000581        NaN\n",
       "0.128027  0.9685  0.999975   0.999881   0.999531   1.000562        NaN\n",
       "0.125963  0.9690  0.999958   0.999881   0.999534   1.000543        NaN\n",
       "0.123899  0.9695  0.999941   0.999881   0.999536   1.000525        NaN\n",
       "0.121837  0.9700  0.999924   0.999880   0.999538   1.000506        NaN"
      ]
     },
     "execution_count": 17,
     "metadata": {},
     "output_type": "execute_result"
    }
   ],
   "source": [
    "decomposition_Ar2008[decomposition_Ar2008['1+lambda']  - 1 <= 0].head()"
   ]
  },
  {
   "cell_type": "code",
   "execution_count": 18,
   "metadata": {},
   "outputs": [
    {
     "data": {
      "image/png": "[encoded data removed]",
      "text/plain": [
       "<Figure size 345.6x230.4 with 1 Axes>"
      ]
     },
     "metadata": {
      "needs_background": "light"
     },
     "output_type": "display_data"
    }
   ],
   "source": [
    "figs['Ar08'] = plt.figure()\n",
    "\n",
    "ax = plt.subplot(111)\n",
    "ax.axhline(y=0, color='gray')\n",
    "ax.axvline(x=rAr08, color='lightgray', linewidth=2)\n",
    "ax.axvline(x=rhoAr08, color='lightgray', linewidth=2)\n",
    "\n",
    "(100 * (decomposition_Ar2008['1+lambda'] - 1)).plot(linewidth=4)\n",
    "\n",
    "\n",
    "ax.set_xlabel(r'Household Discount Rate, $\\rho_H$', \n",
    "              fontsize=axis_labels_fs, labelpad=10)\n",
    "# ax.set_ylabel(r'Percentage Points of Consumption', fontsize=14)\n",
    "\n",
    "ax.set_yticks([-0.2, -0.1, 0, 0.1, 0.2])\n",
    "labs = ['-0.2', '-0.1', ' 0.0', ' 0.1', ' 0.2$\\%$']\n",
    "ax.set_yticklabels(labels=\n",
    "                  [lab + ('   ' if i < len(labs) -1 else '') \n",
    "                       for i, lab in enumerate(labs)\n",
    "                  ])\n",
    "\n",
    "ax.set_xlim(0.0, 0.25)\n",
    "ax.set_ylim(-20/100, 20/100)\n",
    "\n",
    "plt.box(False)\n",
    "\n",
    "\n",
    "lambda_series_Ar = lambda_series(bmax=bmaxAr08, y=1, \n",
    "                                 sigma=2, r=rAr08, rho=rhoAr08)\n",
    "ax.plot(lambda_series_Ar[0], 100 * lambda_series_Ar[1], \n",
    "        linewidth=3, color='lightblue')\n",
    "\n",
    "\n",
    "ax.text(rAr08+0.002, 20/100, r'$r$', fontsize=text_fs, color='lightgray')\n",
    "ax.text(rhoAr08+0.002, 20/100, r'$\\rho_G$', fontsize=text_fs, color='lightgray')\n",
    "\n",
    "ax.text(0.255, 18/100, r'$\\hat \\lambda$', fontsize=text_fs)\n",
    "ax.text(0.255, 8/100, r'$\\lambda$', fontsize=text_fs)\n",
    "\n",
    "ax.text(0.12, 30/100, 'Welfare Gains from Financial Market Access', \n",
    "             fontsize=title_fs, horizontalalignment='center');\n",
    "ax.text(0.12, 26/100, 'Arellano (2008)', \n",
    "        fontsize=subtitle_fs, horizontalalignment='center');"
   ]
  },
  {
   "cell_type": "code",
   "execution_count": 19,
   "metadata": {},
   "outputs": [
    {
     "data": {
      "image/png": "[encoded data removed]",
      "text/plain": [
       "<Figure size 345.6x230.4 with 1 Axes>"
      ]
     },
     "metadata": {
      "needs_background": "light"
     },
     "output_type": "display_data"
    }
   ],
   "source": [
    "\n",
    "figs['Ar08_decomposition'] = plt.figure()\n",
    "label_fnsize = 15\n",
    "ax = plt.subplot(111)\n",
    "ax.axhline(y=0, color='gray')\n",
    "ax.axvline(x=rAr08, color='lightgray', linewidth=2)\n",
    "ax.axvline(x=rhoAr08, color='lightgray', linewidth=2)\n",
    "\n",
    "lambda_series_Ar = lambda_series(bmax=bmaxAr08, y=1, \n",
    "                                 sigma=2, r=rAr08, rho=rhoAr08)\n",
    "ax.plot(lambda_series_Ar[0], 100 * lambda_series_Ar[1], \n",
    "        linewidth=3, color='lightblue')\n",
    "ax.text(0.255, 19/100, r'$\\hat\\lambda$', fontsize=text_fs)\n",
    "\n",
    "(100 * (decomposition_Ar2008['1+lambda'] - 1)).plot(linewidth=4)\n",
    "ax.text(0.255, 8.2/100, r'$\\lambda$', fontsize=text_fs)\n",
    "\n",
    "\n",
    "(100 * (decomposition_Ar2008['1+lambdaT'] - 1)).plot(style='--', \n",
    "                                                     linewidth=3, \n",
    "                                                     color='k')\n",
    "ax.text(0.255, 15/100, r'$\\lambda_T$', fontsize=text_fs)\n",
    "\n",
    "\n",
    "(100 * (decomposition_Ar2008['1+lambdaV'] - 1)).plot(style='-.', \n",
    "                                                     linewidth=3, \n",
    "                                                     color='green')\n",
    "ax.text(0.255, -7/100, r'$\\lambda_V$', fontsize=text_fs)\n",
    "\n",
    "\n",
    "(100 * (decomposition_Ar2008['1+lambdaD'] - 1)).plot(style=':', \n",
    "                                                     linewidth=3, \n",
    "                                                     color='k')\n",
    "ax.text(0.255, -2/100, r'$\\lambda_D$', fontsize=text_fs)\n",
    "\n",
    "\n",
    "ax.set_xlabel(r'Household Discount Rate, $\\rho_H$', \n",
    "              fontsize=axis_labels_fs, labelpad=10)\n",
    "# ax.set_ylabel(r'Percentage Points of Consumption', fontsize=14)\n",
    "\n",
    "\n",
    "\n",
    "\n",
    "plt.box(False)\n",
    "\n",
    "\n",
    "ax.text(rAr08 + 0.002, 20/100, r'$r$', fontsize=text_fs, color='lightgray')\n",
    "ax.text(rhoAr08 + 0.002, 20/100, r'$\\rho_G$', fontsize=text_fs, color='lightgray')\n",
    "\n",
    "ax.set_yticks([-2/10, -1/10, 0, 1/10, 2/10])\n",
    "labs = ['-0.2', '-0.1', ' 0.0', ' 0.1', ' 0.2$\\%$']\n",
    "ax.set_yticklabels(labels=\n",
    "                  [lab + ('   ' if i < len(labs) -1 else '') \n",
    "                       for i, lab in enumerate(labs)\n",
    "                  ])\n",
    "ax.set_ylim(-20/100, 22/100)\n",
    "ax.set_xlim(0, 0.25)\n",
    "\n",
    "ax.text(0.12, 32/100, 'Welfare Gain Decomposition', \n",
    "             fontsize=title_fs, horizontalalignment='center');\n",
    "ax.text(0.12, 28/100, 'Arellano (2008)', \n",
    "        fontsize=subtitle_fs, horizontalalignment='center');"
   ]
  },
  {
   "cell_type": "markdown",
   "metadata": {},
   "source": [
    "## CE2012"
   ]
  },
  {
   "cell_type": "code",
   "execution_count": 21,
   "metadata": {},
   "outputs": [],
   "source": [
    "decomposition_CE2012 = pd.read_csv(CE2012_file, header=None, \n",
    "                                   names=['beta', '1+lambda', \n",
    "                                          '1+lambdaD', '1+lambdaV',\n",
    "                                          '1+lambdaT', '1+lambdaR'])\n",
    "\n",
    "decomposition_CE2012['rho'] = -np.log(decomposition_CE2012['beta'] ** 4)\n",
    "decomposition_CE2012 = decomposition_CE2012.set_index('rho')\n",
    "\n",
    "rCE12 = 4 * np.log(1.01)\n",
    "rhoCE12 = - 4 * np.log(0.9540232420)"
   ]
  },
  {
   "cell_type": "code",
   "execution_count": 22,
   "metadata": {},
   "outputs": [
    {
     "name": "stdout",
     "output_type": "stream",
     "text": [
      "0.22107767779532644\n"
     ]
    }
   ],
   "source": [
    "# computing bmax\n",
    "\n",
    "# reading the debt series from file\n",
    "bmaxCE12temp = - pd.read_csv(CE2012_debt_file, header=None, names=['debt'])\n",
    "# selecting last value as steady state value\n",
    "bmaxCE12temp = debt_limits['CE'].iloc[[-1]].values[0]\n",
    "\n",
    "# correcting it to remove the coupon -- see paper \n",
    "z = 4 * 0.03\n",
    "lam = 4 * 0.05\n",
    "bmaxCE12 = (lam + (1-lam) * z)/(rCE12 + lam) * bmaxCE12temp / 4\n",
    "print(bmaxCE12)"
   ]
  },
  {
   "cell_type": "code",
   "execution_count": 23,
   "metadata": {},
   "outputs": [
    {
     "data": {
      "text/html": [
       "<div>\n",
       "<style scoped>\n",
       "    .dataframe tbody tr th:only-of-type {\n",
       "        vertical-align: middle;\n",
       "    }\n",
       "\n",
       "    .dataframe tbody tr th {\n",
       "        vertical-align: top;\n",
       "    }\n",
       "\n",
       "    .dataframe thead th {\n",
       "        text-align: right;\n",
       "    }\n",
       "</style>\n",
       "<table border=\"1\" class=\"dataframe\">\n",
       "  <thead>\n",
       "    <tr style=\"text-align: right;\">\n",
       "      <th></th>\n",
       "      <th>beta</th>\n",
       "      <th>1+lambda</th>\n",
       "      <th>1+lambdaD</th>\n",
       "      <th>1+lambdaV</th>\n",
       "      <th>1+lambdaT</th>\n",
       "      <th>1+lambdaR</th>\n",
       "    </tr>\n",
       "    <tr>\n",
       "      <th>rho</th>\n",
       "      <th></th>\n",
       "      <th></th>\n",
       "      <th></th>\n",
       "      <th></th>\n",
       "      <th></th>\n",
       "      <th></th>\n",
       "    </tr>\n",
       "  </thead>\n",
       "  <tbody>\n",
       "    <tr>\n",
       "      <td>0.101271</td>\n",
       "      <td>0.9750</td>\n",
       "      <td>0.999860</td>\n",
       "      <td>0.993470</td>\n",
       "      <td>0.999424</td>\n",
       "      <td>1.007012</td>\n",
       "      <td>NaN</td>\n",
       "    </tr>\n",
       "    <tr>\n",
       "      <td>0.099220</td>\n",
       "      <td>0.9755</td>\n",
       "      <td>0.999525</td>\n",
       "      <td>0.993380</td>\n",
       "      <td>0.999428</td>\n",
       "      <td>1.006762</td>\n",
       "      <td>NaN</td>\n",
       "    </tr>\n",
       "    <tr>\n",
       "      <td>0.097171</td>\n",
       "      <td>0.9760</td>\n",
       "      <td>0.999190</td>\n",
       "      <td>0.993288</td>\n",
       "      <td>0.999432</td>\n",
       "      <td>1.006513</td>\n",
       "      <td>NaN</td>\n",
       "    </tr>\n",
       "    <tr>\n",
       "      <td>0.095122</td>\n",
       "      <td>0.9765</td>\n",
       "      <td>0.998853</td>\n",
       "      <td>0.993195</td>\n",
       "      <td>0.999436</td>\n",
       "      <td>1.006264</td>\n",
       "      <td>NaN</td>\n",
       "    </tr>\n",
       "    <tr>\n",
       "      <td>0.093075</td>\n",
       "      <td>0.9770</td>\n",
       "      <td>0.998514</td>\n",
       "      <td>0.993101</td>\n",
       "      <td>0.999440</td>\n",
       "      <td>1.006014</td>\n",
       "      <td>NaN</td>\n",
       "    </tr>\n",
       "  </tbody>\n",
       "</table>\n",
       "</div>"
      ],
      "text/plain": [
       "            beta  1+lambda  1+lambdaD  1+lambdaV  1+lambdaT  1+lambdaR\n",
       "rho                                                                   \n",
       "0.101271  0.9750  0.999860   0.993470   0.999424   1.007012        NaN\n",
       "0.099220  0.9755  0.999525   0.993380   0.999428   1.006762        NaN\n",
       "0.097171  0.9760  0.999190   0.993288   0.999432   1.006513        NaN\n",
       "0.095122  0.9765  0.998853   0.993195   0.999436   1.006264        NaN\n",
       "0.093075  0.9770  0.998514   0.993101   0.999440   1.006014        NaN"
      ]
     },
     "execution_count": 23,
     "metadata": {},
     "output_type": "execute_result"
    }
   ],
   "source": [
    "decomposition_CE2012[decomposition_CE2012['1+lambda']  - 1 <= 0].head()"
   ]
  },
  {
   "cell_type": "code",
   "execution_count": 24,
   "metadata": {},
   "outputs": [
    {
     "data": {
      "image/png": "[encoded data removed]",
      "text/plain": [
       "<Figure size 345.6x230.4 with 1 Axes>"
      ]
     },
     "metadata": {
      "needs_background": "light"
     },
     "output_type": "display_data"
    }
   ],
   "source": [
    "figs['CE12'] = plt.figure()\n",
    "\n",
    "ax = plt.subplot(111)\n",
    "ax.axhline(y=0, color='gray')\n",
    "ax.axvline(x=rCE12, color='lightgray', linewidth=2)\n",
    "ax.axvline(x=rhoCE12, color='lightgray', linewidth=2)\n",
    "\n",
    "(100 * (decomposition_CE2012['1+lambda'] - 1)).plot(linewidth=4)\n",
    "\n",
    "ax.set_xlim(0.0, 0.25)\n",
    "ax.set_ylim(-2, 4)\n",
    "\n",
    "ax.set_xlabel(r'Household Discount Rate, $\\rho_H$', \n",
    "              fontsize=axis_labels_fs, labelpad=10)\n",
    "# ax.set_ylabel(r'Percentage Points of Consumption', fontsize=14)\n",
    "\n",
    "# ax.text(0.35, -.7, r'$\\lambda_D$', fontsize=label_fnsize)\n",
    "# ax.text(0.35, 3.65, r'$\\lambda_T$', fontsize=label_fnsize)\n",
    "\n",
    "ax.set_yticks([-2, -1, 0, 1, 2, 3, 4])\n",
    "labs = ['-2', '-1', ' 0', ' 1', ' 2', ' 3', ' 4$\\%$']\n",
    "ax.set_yticklabels(labels=\n",
    "                  [lab + ('   ' if i < len(labs) -1 else '') \n",
    "                       for i, lab in enumerate(labs)\n",
    "                  ])\n",
    "\n",
    "plt.box(False)\n",
    "\n",
    "\n",
    "lambda_series_CE = lambda_series(bmax=bmaxCE12, y=1, \n",
    "                                 sigma=2, r=rCE12, rho=rhoCE12)\n",
    "ax.plot(lambda_series_CE[0], 100 * lambda_series_CE[1], \n",
    "        linewidth=3, color='lightblue')\n",
    "\n",
    "ax.text(rCE12+0.002, 3.9, r'$r$', fontsize=text_fs, color='lightgray')\n",
    "ax.text(rhoCE12+0.002, 3.9, r'$\\rho_G$', fontsize=text_fs, color='lightgray')\n",
    "\n",
    "ax.text(0.255, 2, r'$\\lambda$', fontsize=text_fs)\n",
    "ax.text(0.255, 3.4, r'$\\hat\\lambda$', fontsize=text_fs)\n",
    "\n",
    "ax.text(0.125, 5.5, 'Welfare Gains from Financial Market Access', \n",
    "             fontsize=title_fs, horizontalalignment='center');\n",
    "ax.text(0.125, 4.9, 'Chatterjee and Eyigungor (2012)', \n",
    "        fontsize=subtitle_fs, horizontalalignment='center');"
   ]
  },
  {
   "cell_type": "code",
   "execution_count": 25,
   "metadata": {},
   "outputs": [
    {
     "data": {
      "image/png": "[encoded data removed]",
      "text/plain": [
       "<Figure size 345.6x230.4 with 1 Axes>"
      ]
     },
     "metadata": {
      "needs_background": "light"
     },
     "output_type": "display_data"
    }
   ],
   "source": [
    "figs['CE12_decomposition'] = plt.figure()\n",
    "\n",
    "ax = plt.subplot(111)\n",
    "ax.axhline(y=0, color='gray')\n",
    "ax.axvline(x=rCE12, color='lightgray', linewidth=2)\n",
    "ax.axvline(x=rhoCE12, color='lightgray', linewidth=2)\n",
    "\n",
    "ax.set_ylim(-2, 4)\n",
    "\n",
    "\n",
    "ax.set_yticks([-2, -1, 0, 1, 2, 3, 4])\n",
    "labs = ['-2', '-1', ' 0', ' 1', ' 2', ' 3', ' 4$\\%$']\n",
    "ax.set_yticklabels(labels=\n",
    "                  [lab + ('   ' if i < len(labs) -1 else '') \n",
    "                       for i, lab in enumerate(labs)\n",
    "                  ])\n",
    "\n",
    "lambda_series_CE = lambda_series(bmax=bmaxCE12, y=1, \n",
    "                                 sigma=2, r=rCE12, rho=rhoCE12)\n",
    "ax.plot(lambda_series_CE[0], 100 * lambda_series_CE[1], \n",
    "        linewidth=3, color='lightblue')\n",
    "ax.text(0.255, 3.4, r'$\\hat\\lambda$', fontsize=text_fs)\n",
    "\n",
    "\n",
    "(100 * (decomposition_CE2012['1+lambda'] - 1)).plot(linewidth=4)\n",
    "ax.text(0.255, 1.8, r'$\\lambda$', fontsize=text_fs)\n",
    "\n",
    "\n",
    "(100 * (decomposition_CE2012['1+lambdaT'] - 1)).plot(style='--', \n",
    "                                                     linewidth=3, \n",
    "                                                     color='k')\n",
    "ax.text(0.255, 2.4, r'$\\lambda_T$', fontsize=text_fs)\n",
    "\n",
    "(100 * (decomposition_CE2012['1+lambdaD'] - 1)).plot(style='-.', \n",
    "                                                     linewidth=3, \n",
    "                                                     color='green')\n",
    "ax.text(0.255, -0.5, r'$\\lambda_D$', fontsize=text_fs)\n",
    "\n",
    "(100 * (decomposition_CE2012['1+lambdaV'] - 1)).plot(linewidth=3, \n",
    "                                                     style=':', \n",
    "                                                     color='k')\n",
    "ax.text(0.255, -0, r'$\\lambda_V$', fontsize=text_fs)\n",
    "\n",
    "\n",
    "ax.set_xlabel(r'Household Discount Rate, $\\rho_H$', \n",
    "              fontsize=axis_labels_fs, labelpad=10)\n",
    "# ax.set_ylabel(r'Percentage Points of Consumption', fontsize=14)\n",
    "\n",
    "\n",
    "plt.box(False)\n",
    "\n",
    "\n",
    "ax.text(rCE12+0.002, 3.9, r'$r$', fontsize=text_fs, color='lightgray')\n",
    "ax.text(rhoCE12+0.002, 3.9, r'$\\rho_G$', fontsize=text_fs, color='lightgray')\n",
    "\n",
    "\n",
    "\n",
    "ax.text(0.125, 5.5, 'Welfare Gain Decomposition', \n",
    "             fontsize=title_fs, horizontalalignment='center')\n",
    "ax.text(0.125, 4.9, 'Chatterjee and Eyigungor (2012)', \n",
    "        fontsize=subtitle_fs, horizontalalignment='center')\n",
    "\n",
    "ax.set_xlim(0.0, 0.25);\n"
   ]
  },
  {
   "cell_type": "code",
   "execution_count": 27,
   "metadata": {},
   "outputs": [
    {
     "data": {
      "image/png": "[encoded data removed]",
      "text/plain": [
       "<Figure size 345.6x230.4 with 1 Axes>"
      ]
     },
     "metadata": {
      "needs_background": "light"
     },
     "output_type": "display_data"
    }
   ],
   "source": [
    "figs['CE12_vs_Are2008'] = plt.figure()\n",
    "label_fnsize = 15\n",
    "ax = plt.subplot(111)\n",
    "ax.axhline(y=0, color='gray')\n",
    "\n",
    "(100 * (decomposition_Ar2008['1+lambdaV'] - 1)).plot(linewidth=4)\n",
    "(100 * (decomposition_CE2012['1+lambdaV'] - 1)).plot(linewidth=3, \n",
    "                                                     style=':', \n",
    "                                                     color='k')\n",
    "\n",
    "ax.axvline(x=rCE12, color='lightgray', linewidth=2)\n",
    "ax.axvline(x=rhoCE12, color='lightgray', linewidth=2)\n",
    "\n",
    "\n",
    "ax.set_xlim(0.0, 0.25)\n",
    "\n",
    "ax.set_xlabel(r'Household Discount Rate, $\\rho_H$', \n",
    "              fontsize=axis_labels_fs, labelpad=10)\n",
    "\n",
    "ax.set_yticks([-0.10, -0.05, 0, 0.05])\n",
    "labs = ['-0.10', '-0.05', ' 0   ', ' 0.05$\\%$']\n",
    "ax.set_yticklabels(labels=\n",
    "                  [lab + ('   ' if i < len(labs) -1 else '') \n",
    "                       for i, lab in enumerate(labs)\n",
    "                  ])\n",
    "\n",
    "plt.box(False)\n",
    "\n",
    "\n",
    "ax.text(rCE12+0.002, 0.05, r'$r$', fontsize=text_fs, color='lightgray')\n",
    "ax.text(rhoCE12+0.002, 0.05, r'$\\rho_G$', fontsize=text_fs, color='lightgray')\n",
    "\n",
    "ax.text(0.255, -0.06, r'$\\lambda_V^{Ar08}$', fontsize=text_fs)\n",
    "ax.text(0.255, -0.08, r'$\\lambda_V^{CE12}$', fontsize=text_fs)\n",
    "\n",
    "ax.text(0.125, 0.075, 'Variability terms', \n",
    "             fontsize=title_fs, horizontalalignment='center')\n",
    "\n",
    "ax.set_ylim(-0.1, 0.05);\n",
    "\n"
   ]
  },
  {
   "cell_type": "code",
   "execution_count": 31,
   "metadata": {},
   "outputs": [],
   "source": [
    "lambdaD =  pd.read_csv(CE2012_lambdaDDecomposition_file, header=None,\n",
    "                             names=[\n",
    "                                 \"betaH\", \n",
    "                                 \"1+lambdaHD\", \n",
    "                                 \"1+lambdaHHatD\", \n",
    "                                 \"1+lambdaGD\", \n",
    "                                 \"ratioH_HHat\",\n",
    "                                 \"ratioHHat_G\"\n",
    "                             ])"
   ]
  },
  {
   "cell_type": "code",
   "execution_count": 32,
   "metadata": {},
   "outputs": [],
   "source": [
    "lambdaD['ratio'] = lambdaD['1+lambdaHD'] /lambdaD['1+lambdaGD']  \n",
    "lambdaD['rhoH'] = -np.log(lambdaD['betaH'] ** 4)"
   ]
  },
  {
   "cell_type": "code",
   "execution_count": 33,
   "metadata": {},
   "outputs": [
    {
     "data": {
      "text/plain": [
       "Text(0.2, 1.006, 'Decomposing $\\\\lambda_D$')"
      ]
     },
     "execution_count": 33,
     "metadata": {},
     "output_type": "execute_result"
    },
    {
     "data": {
      "image/png": "[encoded data removed]",
      "text/plain": [
       "<Figure size 345.6x230.4 with 1 Axes>"
      ]
     },
     "metadata": {
      "needs_background": "light"
     },
     "output_type": "display_data"
    }
   ],
   "source": [
    "figs['CE12_lambdaD_decomposition'] = plt.figure()\n",
    "\n",
    "ax = plt.subplot(111)\n",
    "\n",
    "ax.axvline(x=rCE12, color='lightgray', linewidth=2)\n",
    "ax.axvline(x=rhoCE12, color='lightgray', linewidth=2)\n",
    "ax.axhline(y=1.0, color='lightgray', linewidth=2)\n",
    "\n",
    "\n",
    "ax.plot(lambdaD['rhoH'], lambdaD['ratio'], \"-\", lw=4)\n",
    "ax.plot(lambdaD['rhoH'], lambdaD['ratioH_HHat'], \"--\")\n",
    "ax.plot(lambdaD['rhoH'], lambdaD['ratioHHat_G'], \"-\")\n",
    "\n",
    "plt.box(False)\n",
    "\n",
    "ax.text(0.06, 0.992, r'$ \\displaystyle \\frac{1+\\lambda_D}{1+\\lambda_D^G}$', fontsize=text_fs)\n",
    "ax.text(0.07, 1.0005, r'$ \\displaystyle \\frac{1+\\hat \\lambda_D}{1+\\lambda_D^G}$', fontsize=text_fs)\n",
    "ax.text(0.32, 0.996, r'$ \\displaystyle \\frac{1+\\lambda_D}{1+\\hat \\lambda_D}$', fontsize=text_fs)\n",
    "\n",
    "ax.add_line(mlines.Line2D([0.07, 0.08], [0.9985, 1.0005], color=\"k\", lw=0.5) )\n",
    "ax.add_line(mlines.Line2D([0.35, 0.35], [0.9985, 1.0007], color=\"k\", lw=0.5) );\n",
    "\n",
    "ax.set_xlabel(r'Household Discount Rate, $\\rho_H$',\n",
    "             fontsize=axis_labels_fs, labelpad=10)\n",
    "\n",
    "ax.text(0.20, 1.006, 'Decomposing $\\lambda_D$', \n",
    "       fontsize=title_fs, horizontalalignment='center');\n"
   ]
  },
  {
   "cell_type": "markdown",
   "metadata": {},
   "source": [
    "## Saving the plots"
   ]
  },
  {
   "cell_type": "code",
   "execution_count": 34,
   "metadata": {},
   "outputs": [
    {
     "name": "stdout",
     "output_type": "stream",
     "text": [
      "indifference\n",
      "indifference_slides\n",
      "welfare_theory\n",
      "welfare_theory_slides\n",
      "AG06\n",
      "AG06_decomposition\n",
      "AG06_decomposition_slides_0\n",
      "AG06_decomposition_slides_1\n",
      "AG06_decomposition_slides_2\n",
      "Ar08\n",
      "Ar08_decomposition\n",
      "Ar08_decomposition_slides_0\n",
      "Ar08_decomposition_slides_1\n",
      "Ar08_decomposition_slides_2\n",
      "Ar08_decomposition_slides_3\n",
      "Ar08_decomposition_slides_4\n",
      "CE12\n",
      "CE12_decomposition\n",
      "CE12_decomposition_slides_0\n",
      "CE12_decomposition_slides_1\n",
      "CE12_decomposition_slides_2\n",
      "CE12_decomposition_slides_3\n",
      "CE12_decomposition_slides_4\n",
      "CE12_vs_Are2008\n",
      "CE12_indifference\n",
      "CE12_lambdaD_decomposition\n"
     ]
    }
   ],
   "source": [
    "for name in figs:\n",
    "    print(name)\n",
    "    figs[name].savefig(os.path.join('OUTPUT', 'FIGURES', 'fig_' + name + '.pdf'), bbox_inches = \"tight\")"
   ]
  },
  {
   "cell_type": "code",
   "execution_count": null,
   "metadata": {},
   "outputs": [],
   "source": []
  }
 ],
 "metadata": {
  "@webio": {
   "lastCommId": null,
   "lastKernelId": null
  },
  "kernelspec": {
   "display_name": "Python 3",
   "language": "python",
   "name": "python3"
  },
  "language_info": {
   "codemirror_mode": {
    "name": "ipython",
    "version": 3
   },
   "file_extension": ".py",
   "mimetype": "text/x-python",
   "name": "python",
   "nbconvert_exporter": "python",
   "pygments_lexer": "ipython3",
   "version": "3.7.4"
  }
 },
 "nbformat": 4,
 "nbformat_minor": 4
}